{
 "cells": [
  {
   "cell_type": "code",
   "execution_count": 3,
   "id": "2991a701",
   "metadata": {},
   "outputs": [
    {
     "name": "stdout",
     "output_type": "stream",
     "text": [
      "Original text: This is a sample, input. With spaces and commas.\n",
      "Modified text: This:is:a:sample::input::With:spaces:and:commas:\n"
     ]
    }
   ],
   "source": [
    "import re\n",
    "\n",
    "def replace_with_colon(input_string):\n",
    "    \n",
    "    pattern = r'[ ,.]'\n",
    "    result_string = re.sub(pattern, ':', input_string)\n",
    "\n",
    "    return result_string\n",
    "input_text = \"This is a sample, input. With spaces and commas.\"\n",
    "output_text = replace_with_colon(input_text)\n",
    "\n",
    "print(\"Original text:\", input_text)\n",
    "print(\"Modified text:\", output_text)"
   ]
  },
  {
   "cell_type": "code",
   "execution_count": 6,
   "id": "c475de74",
   "metadata": {},
   "outputs": [
    {
     "name": "stdout",
     "output_type": "stream",
     "text": [
      "                         Column1                Column2\n",
      "0                   Hello World            Another text\n",
      "1  XXXX Remove these characters   Remove these as well \n",
      "2               Some other text         More text here \n"
     ]
    }
   ],
   "source": [
    "import pandas as pd\n",
    "import re\n",
    "\n",
    "\n",
    "data = {\n",
    "    'Column1': ['Hello, World!', 'XXXX Remove, these, characters!', 'Some; other text!'],\n",
    "    'Column2': ['Another text', 'Remove; these, as well!', 'More text here.']}\n",
    "df = pd.DataFrame(data)\n",
    "\n",
    "\n",
    "def remove_non_words(text):\n",
    "    return re.sub(r'\\W+', ' ', text)\n",
    "\n",
    "df = df.applymap(remove_non_words)\n",
    "print(df)\n"
   ]
  },
  {
   "cell_type": "code",
   "execution_count": 9,
   "id": "c7b3edd1",
   "metadata": {},
   "outputs": [
    {
     "name": "stdout",
     "output_type": "stream",
     "text": [
      "Original text: This is a sample string with some long words like Python, regex, and example.\n",
      "Long words: ['This', 'sample', 'string', 'with', 'some', 'long', 'words', 'like', 'Python', 'regex', 'example']\n"
     ]
    }
   ],
   "source": [
    "import re\n",
    "\n",
    "def find_long_words(input_string):\n",
    "    pattern = re.compile(r'\\b\\w{4,}\\b')\n",
    "\n",
    "    long_words = pattern.findall(input_string)\n",
    "\n",
    "    return long_words\n",
    "\n",
    "input_text = \"This is a sample string with some long words like Python, regex, and example.\"\n",
    "result = find_long_words(input_text)\n",
    "\n",
    "print(\"Original text:\", input_text)\n",
    "print(\"Long words:\", result)\n"
   ]
  },
  {
   "cell_type": "code",
   "execution_count": 11,
   "id": "d7ece763",
   "metadata": {},
   "outputs": [
    {
     "name": "stdout",
     "output_type": "stream",
     "text": [
      "Original text: This is a sample string with words of various lengths such as cat, dog, python, regex, and tiger.\n",
      "Specific length words: ['This', 'with', 'words', 'such', 'cat', 'dog', 'regex', 'and', 'tiger']\n"
     ]
    }
   ],
   "source": [
    "import re\n",
    "\n",
    "def find_specific_length_words(input_string):\n",
    "    # Define a compiled regex pattern to match words of lengths 3, 4, and 5\n",
    "    pattern = re.compile(r'\\b\\w{3,5}\\b')\n",
    "\n",
    "    specific_length_words = pattern.findall(input_string)\n",
    "\n",
    "    return specific_length_words\n",
    "input_text = \"This is a sample string with words of various lengths such as cat, dog, python, regex, and tiger.\"\n",
    "result = find_specific_length_words(input_text)\n",
    "\n",
    "print(\"Original text:\", input_text)\n",
    "print(\"Specific length words:\", result)\n"
   ]
  },
  {
   "cell_type": "code",
   "execution_count": 19,
   "id": "7a437d7e",
   "metadata": {},
   "outputs": [
    {
     "name": "stdout",
     "output_type": "stream",
     "text": [
      "Original strings: ['This is a (sample) string', 'Another string (with parentheses)', '(Remove me too)']\n",
      "Strings without parentheses: ['This is a  string', 'Another string ', '']\n"
     ]
    }
   ],
   "source": [
    "def remove_parentheses(strings_list):\n",
    "    pattern = re.compile(r'\\([^)]*\\)')\n",
    "\n",
    "    def remove_from_string(input_string):\n",
    "        return pattern.sub('', input_string)\n",
    "\n",
    "    result_list = [remove_from_string(s) for s in strings_list]\n",
    "\n",
    "    return result_list\n",
    "\n",
    "input_strings = [\"This is a (sample) string\", \"Another string (with parentheses)\", \"(Remove me too)\"]\n",
    "result = remove_parentheses(input_strings)\n",
    "\n",
    "print(\"Original strings:\", input_strings)\n",
    "print(\"Strings without parentheses:\", result)"
   ]
  },
  {
   "cell_type": "code",
   "execution_count": 21,
   "id": "65ab6921",
   "metadata": {},
   "outputs": [
    {
     "name": "stdout",
     "output_type": "stream",
     "text": [
      "['S', 'T', 'S', 'I', 'U', 'L']\n"
     ]
    }
   ],
   "source": [
    "\n",
    "input_string = \"SplitThisStringIntoUppercaseLetters\"\n",
    "result = re.findall(r'[A-Z]', input_string)\n",
    "\n",
    "print(result)"
   ]
  },
  {
   "cell_type": "code",
   "execution_count": 23,
   "id": "8dcd9ef3",
   "metadata": {},
   "outputs": [
    {
     "name": "stdout",
     "output_type": "stream",
     "text": [
      "Original text: This is a sample123text with some456numbers.\n",
      "Modified text: This is a sample 123text with some 456numbers.\n"
     ]
    }
   ],
   "source": [
    "\n",
    "def insert_spaces_before_numbers(input_string):\n",
    "    pattern = re.compile(r'(?<=\\D)(?=\\d)')\n",
    "\n",
    "    result_string = pattern.sub(' ', input_string)\n",
    "\n",
    "    return result_string\n",
    "\n",
    "input_text = \"This is a sample123text with some456numbers.\"\n",
    "result = insert_spaces_before_numbers(input_text)\n",
    "\n",
    "print(\"Original text:\", input_text)\n",
    "print(\"Modified text:\", result)"
   ]
  },
  {
   "cell_type": "code",
   "execution_count": 33,
   "id": "42507cf6",
   "metadata": {},
   "outputs": [
    {
     "name": "stdout",
     "output_type": "stream",
     "text": [
      "Original text: ThisIsA_Sample123Text WithSome456Numbers.\n",
      "Modified text: This Is A_Sample 123 Text With Some 456 Numbers.\n"
     ]
    }
   ],
   "source": [
    "def insert_spaces_before_caps_and_numbers(input_string):\n",
    "    \n",
    "    pattern = re.compile(r'(?<=[A-Z0-9])(?=[A-Z])|(?<=[a-z])(?=[A-Z0-9])')\n",
    "\n",
    "    result_string = pattern.sub(' ', input_string)\n",
    "\n",
    "    return result_string\n",
    "\n",
    "input_text = \"ThisIsA_Sample123Text WithSome456Numbers.\"\n",
    "result = insert_spaces_before_caps_and_numbers(input_text)\n",
    "\n",
    "print(\"Original text:\", input_text)\n",
    "print(\"Modified text:\", result)"
   ]
  },
  {
   "cell_type": "code",
   "execution_count": 44,
   "id": "d02904bc",
   "metadata": {},
   "outputs": [
    {
     "name": "stdout",
     "output_type": "stream",
     "text": [
      "Is 'Valid_String123' valid? True\n",
      "Is 'Invalid_String@456' valid? False\n"
     ]
    }
   ],
   "source": [
    "import re\n",
    "\n",
    "def match_string(input_string):\n",
    "   \n",
    "    pattern = re.compile(r'^[a-zA-Z0-9_]+$')\n",
    "\n",
    "    if pattern.match(input_string):\n",
    "        return True\n",
    "    else:\n",
    "        return False\n",
    "\n",
    "test_string1 = \"Valid_String123\"\n",
    "test_string2 = \"Invalid_String@456\"\n",
    "\n",
    "result1 = match_string(test_string1)\n",
    "result2 = match_string(test_string2)\n",
    "\n",
    "print(f\"Is '{test_string1}' valid? {result1}\")\n",
    "print(f\"Is '{test_string2}' valid? {result2}\")\n"
   ]
  },
  {
   "cell_type": "code",
   "execution_count": 46,
   "id": "fd6f3194",
   "metadata": {},
   "outputs": [
    {
     "name": "stdout",
     "output_type": "stream",
     "text": [
      "Does '123456_StartsWith123' start with 123? True\n",
      "Does '789012_DoesNotStartWith456' start with 456? False\n"
     ]
    }
   ],
   "source": [
    "import re\n",
    "\n",
    "def starts_with_specific_number(input_string, specific_number):\n",
    "     \n",
    "    pattern = re.compile(f'^{specific_number}')\n",
    "\n",
    "    if pattern.match(input_string):\n",
    "        return True\n",
    "    else:\n",
    "        return False\n",
    "\n",
    "test_string1 = \"123456_StartsWith123\"\n",
    "test_string2 = \"789012_DoesNotStartWith456\"\n",
    "\n",
    "specific_number1 = \"123\"\n",
    "specific_number2 = \"456\"\n",
    "\n",
    "result1 = starts_with_specific_number(test_string1, specific_number1)\n",
    "result2 = starts_with_specific_number(test_string2, specific_number2)\n",
    "\n",
    "print(f\"Does '{test_string1}' start with {specific_number1}? {result1}\")\n",
    "print(f\"Does '{test_string2}' start with {specific_number2}? {result2}\")\n"
   ]
  },
  {
   "cell_type": "code",
   "execution_count": 51,
   "id": "511f574f",
   "metadata": {},
   "outputs": [
    {
     "name": "stdout",
     "output_type": "stream",
     "text": [
      "Original IP address: 192.168.001.001\n",
      "IP address without leading zeros: 192.168.1.1\n"
     ]
    }
   ],
   "source": [
    "\n",
    "\n",
    "def remove_leading_zeros(ip_address):\n",
    "    pattern = re.compile(r'\\b0+(\\d+)\\b')\n",
    "\n",
    "    cleaned_ip_address = pattern.sub(r'\\1', ip_address)\n",
    "\n",
    "    return cleaned_ip_address\n",
    "\n",
    "ip_address_with_zeros = \"192.168.001.001\"\n",
    "cleaned_ip_address = remove_leading_zeros(ip_address_with_zeros)\n",
    "\n",
    "print(\"Original IP address:\", ip_address_with_zeros)\n",
    "print(\"IP address without leading zeros:\", cleaned_ip_address)"
   ]
  },
  {
   "cell_type": "code",
   "execution_count": 58,
   "id": "485f5c39",
   "metadata": {},
   "outputs": [
    {
     "name": "stdout",
     "output_type": "stream",
     "text": [
      "Original string: This is a sample string with some literals like apple, banana, and cherry.\n",
      "Literals found: ['apple', 'banana']\n"
     ]
    }
   ],
   "source": [
    "import re\n",
    "\n",
    "def search_literals(input_string, literals):\n",
    "   \n",
    "    pattern = re.compile('|'.join(re.escape(literal) for literal in literals))\n",
    "\n",
    "    matches = pattern.findall(input_string)\n",
    "\n",
    "    return matches\n",
    "\n",
    "text_to_search = \"This is a sample string with some literals like apple, banana, and cherry.\"\n",
    "\n",
    "literals_to_search = [\"apple\", \"banana\", \"orange\"]\n",
    "\n",
    "result = search_literals(text_to_search, literals_to_search)\n",
    "\n",
    "print(\"Original string:\", text_to_search)\n",
    "print(\"Literals found:\", result)\n"
   ]
  },
  {
   "cell_type": "code",
   "execution_count": 60,
   "id": "85bb8ba1",
   "metadata": {},
   "outputs": [
    {
     "name": "stdout",
     "output_type": "stream",
     "text": [
      "Original string: This is a sample string with some literals like apple, banana, and cherry.\n",
      "Literals found with positions:\n",
      "apple found at position 48-53\n",
      "banana found at position 55-61\n"
     ]
    }
   ],
   "source": [
    "import re\n",
    "\n",
    "def search_literals_with_positions(input_string, literals): # Create a regex pattern with the literals joined by the '|' (OR) operator\n",
    "    pattern = re.compile('|'.join(re.escape(literal) for literal in literals))\n",
    "\n",
    "    # Find all matches in the input string along with their positions\n",
    "    matches = [(match.group(), match.start(), match.end()) for match in pattern.finditer(input_string)]\n",
    "\n",
    "    return matches\n",
    "\n",
    "\n",
    "text_to_search = \"This is a sample string with some literals like apple, banana, and cherry.\"\n",
    "\n",
    "literals_to_search = [\"apple\", \"banana\", \"orange\"]\n",
    "\n",
    "result = search_literals_with_positions(text_to_search, literals_to_search)\n",
    "\n",
    "print(\"Original string:\", text_to_search)\n",
    "print(\"Literals found with positions:\")\n",
    "for match, start, end in result:\n",
    "    print(f\"{match} found at position {start}-{end}\")\n"
   ]
  },
  {
   "cell_type": "code",
   "execution_count": 62,
   "id": "5f79e9a0",
   "metadata": {},
   "outputs": [
    {
     "name": "stdout",
     "output_type": "stream",
     "text": [
      "Original string: This is a sample string with some occurrences of the word 'sample'.\n",
      "Substring 'sample' found with positions:\n",
      "sample found at position 10-16\n",
      "sample found at position 59-65\n"
     ]
    }
   ],
   "source": [
    "import re\n",
    "\n",
    "def find_substrings(input_string, substring):\n",
    "  \n",
    "    pattern = re.compile(re.escape(substring))\n",
    "\n",
    "    matches = [(match.group(), match.start(), match.end()) for match in pattern.finditer(input_string)]\n",
    "\n",
    "    return matches\n",
    "\n",
    "text_to_search = \"This is a sample string with some occurrences of the word 'sample'.\"\n",
    "\n",
    "substring_to_search = \"sample\"\n",
    "\n",
    "result = find_substrings(text_to_search, substring_to_search)\n",
    "\n",
    "print(\"Original string:\", text_to_search)\n",
    "print(f\"Substring '{substring_to_search}' found with positions:\")\n",
    "for match, start, end in result:\n",
    "    print(f\"{match} found at position {start}-{end}\")\n"
   ]
  },
  {
   "cell_type": "code",
   "execution_count": 64,
   "id": "31356db0",
   "metadata": {},
   "outputs": [
    {
     "name": "stdout",
     "output_type": "stream",
     "text": [
      "Original string: This is a sample string with some occurrences of the word 'sample'.\n",
      "Occurrences of substring 'sample' with positions:\n",
      "sample found at position 10\n",
      "sample found at position 59\n"
     ]
    }
   ],
   "source": [
    "import re\n",
    "\n",
    "def find_substring_occurrences(input_string, substring):\n",
    "\n",
    "    pattern = re.compile(re.escape(substring))\n",
    "\n",
    "    matches = [(match.group(), match.start()) for match in pattern.finditer(input_string)]\n",
    "\n",
    "    return matches\n",
    "\n",
    "text_to_search = \"This is a sample string with some occurrences of the word 'sample'.\"\n",
    "\n",
    "substring_to_search = \"sample\"\n",
    "\n",
    "result = find_substring_occurrences(text_to_search, substring_to_search)\n",
    "\n",
    "print(\"Original string:\", text_to_search)\n",
    "print(f\"Occurrences of substring '{substring_to_search}' with positions:\")\n",
    "for match, position in result:\n",
    "    print(f\"{match} found at position {position}\")\n"
   ]
  },
  {
   "cell_type": "code",
   "execution_count": 66,
   "id": "fa2bbd0f",
   "metadata": {},
   "outputs": [
    {
     "name": "stdout",
     "output_type": "stream",
     "text": [
      "Original date: 2022-02-14\n",
      "Converted date: 14-02-2022\n"
     ]
    }
   ],
   "source": [
    "import re\n",
    "\n",
    "def convert_date_format(input_date):\n",
    " \n",
    "    pattern = re.compile(r'(\\d{4})-(\\d{2})-(\\d{2})')\n",
    "\n",
    "    converted_date = pattern.sub(r'\\3-\\2-\\1', input_date)\n",
    "\n",
    "    return converted_date\n",
    "\n",
    "input_date = \"2022-02-14\"\n",
    "converted_date = convert_date_format(input_date)\n",
    "\n",
    "print(\"Original date:\", input_date)\n",
    "print(\"Converted date:\", converted_date)\n"
   ]
  },
  {
   "cell_type": "code",
   "execution_count": 68,
   "id": "e1200087",
   "metadata": {},
   "outputs": [
    {
     "name": "stdout",
     "output_type": "stream",
     "text": [
      "Original text: This string contains decimal numbers like 3.14, 42.56, and 123.456.\n",
      "Decimal numbers found: ['3.14', '42.56']\n"
     ]
    }
   ],
   "source": [
    "import re\n",
    "\n",
    "def find_decimal_numbers(input_string):\n",
    "  \n",
    "    pattern = re.compile(r'\\b\\d+\\.\\d{1,2}\\b|\\b\\d{1,2}\\.\\d{1,2}\\b')\n",
    "\n",
    "    decimal_numbers = pattern.findall(input_string)\n",
    "\n",
    "    return decimal_numbers\n",
    "\n",
    "input_text = \"This string contains decimal numbers like 3.14, 42.56, and 123.456.\"\n",
    "\n",
    "result = find_decimal_numbers(input_text)\n",
    "\n",
    "print(\"Original text:\", input_text)\n",
    "print(\"Decimal numbers found:\", result)\n"
   ]
  },
  {
   "cell_type": "code",
   "execution_count": 70,
   "id": "86027be0",
   "metadata": {},
   "outputs": [
    {
     "name": "stdout",
     "output_type": "stream",
     "text": [
      "Original text: This is a sample string with numbers like 42, 123, and 3.14.\n",
      "Numbers and their positions:\n",
      "Number: 42, Position: 42-44\n",
      "Number: 123, Position: 46-49\n",
      "Number: 3, Position: 55-56\n",
      "Number: 14, Position: 57-59\n"
     ]
    }
   ],
   "source": [
    "import re\n",
    "\n",
    "def separate_and_print_numbers(input_string):\n",
    "   \n",
    "    pattern = re.compile(r'\\b\\d+\\b')\n",
    "\n",
    "    matches = [(match.group(), match.start(), match.end()) for match in pattern.finditer(input_string)]\n",
    "\n",
    "    for number, start, end in matches:\n",
    "        print(f\"Number: {number}, Position: {start}-{end}\")\n",
    "\n",
    "input_text = \"This is a sample string with numbers like 42, 123, and 3.14.\"\n",
    "\n",
    "print(\"Original text:\", input_text)\n",
    "print(\"Numbers and their positions:\")\n",
    "separate_and_print_numbers(input_text)\n"
   ]
  },
  {
   "cell_type": "code",
   "execution_count": 72,
   "id": "5fbb900d",
   "metadata": {},
   "outputs": [
    {
     "name": "stdout",
     "output_type": "stream",
     "text": [
      "The maximum numeric value is: 123\n"
     ]
    }
   ],
   "source": [
    "import re\n",
    "\n",
    "def extract_maximum_numeric_value(input_string):\n",
    "    pattern = re.compile(r'\\b\\d+\\b')\n",
    "\n",
    "    numeric_values = [int(match) for match in pattern.findall(input_string)]\n",
    "\n",
    "    if numeric_values:\n",
    "        return max(numeric_values)\n",
    "    else:\n",
    "        return None\n",
    "\n",
    "input_text = \"The maximum numeric value in this string is 42, but there are also 123 and 7.\"\n",
    "\n",
    "max_numeric_value = extract_maximum_numeric_value(input_text)\n",
    "\n",
    "if max_numeric_value is not None:\n",
    "    print(f\"The maximum numeric value is: {max_numeric_value}\")\n",
    "else:\n",
    "    print(\"No numeric values found in the string.\")\n"
   ]
  },
  {
   "cell_type": "code",
   "execution_count": 74,
   "id": "38154e2a",
   "metadata": {},
   "outputs": [
    {
     "name": "stdout",
     "output_type": "stream",
     "text": [
      "Original text: ThisIsASampleStringWithWordsStartingWithCapitalLetters.\n",
      "Text with spaces: This Is ASample String With Words Starting With Capital Letters.\n"
     ]
    }
   ],
   "source": [
    "import re\n",
    "\n",
    "def insert_spaces_before_caps(input_string):\n",
    "    \n",
    "    pattern = re.compile(r'(?<=[a-z])(?=[A-Z])')\n",
    "\n",
    "    result_string = pattern.sub(' ', input_string)\n",
    "\n",
    "    return result_string\n",
    "\n",
    "input_text = \"ThisIsASampleStringWithWordsStartingWithCapitalLetters.\"\n",
    "\n",
    "result = insert_spaces_before_caps(input_text)\n",
    "\n",
    "print(\"Original text:\", input_text)\n",
    "print(\"Text with spaces:\", result)\n"
   ]
  },
  {
   "cell_type": "code",
   "execution_count": 76,
   "id": "0ee50288",
   "metadata": {},
   "outputs": [
    {
     "name": "stdout",
     "output_type": "stream",
     "text": [
      "Original text: This is a Sample Text with Multiple Sequences like ThisOne, AnotherOne, and YetAnother.\n",
      "Sequences found: ['This', 'Sample', 'Text', 'Multiple', 'Sequences']\n"
     ]
    }
   ],
   "source": [
    "import re\n",
    "\n",
    "def find_sequences(input_string):\n",
    "   \n",
    "    pattern = re.compile(r'\\b[A-Z][a-z]+\\b')\n",
    "\n",
    "   \n",
    "    sequences = pattern.findall(input_string)\n",
    "\n",
    "    return sequences\n",
    "\n",
    "\n",
    "input_text = \"This is a Sample Text with Multiple Sequences like ThisOne, AnotherOne, and YetAnother.\"\n",
    "\n",
    "result = find_sequences(input_text)\n",
    "\n",
    "print(\"Original text:\", input_text)\n",
    "print(\"Sequences found:\", result)\n"
   ]
  },
  {
   "cell_type": "code",
   "execution_count": 79,
   "id": "cae74065",
   "metadata": {},
   "outputs": [
    {
     "name": "stdout",
     "output_type": "stream",
     "text": [
      "Original sentence: This is is a sample sample sentence with duplicate duplicate words words.\n",
      "Sentence without continuous duplicates: This is a sample sentence with duplicate words.\n"
     ]
    }
   ],
   "source": [
    "import re\n",
    "\n",
    "def remove_continuous_duplicates(sentence):\n",
    "  \n",
    "    pattern = re.compile(r'\\b(\\w+)(?:\\s+\\1\\b)+', flags=re.IGNORECASE)\n",
    "\n",
    "    cleaned_sentence = pattern.sub(r'\\1', sentence)\n",
    "\n",
    "    return cleaned_sentence\n",
    "\n",
    "input_sentence = \"This is is a sample sample sentence with duplicate duplicate words words.\"\n",
    "\n",
    "result = remove_continuous_duplicates(input_sentence)\n",
    "\n",
    "print(\"Original sentence:\", input_sentence)\n",
    "print(\"Sentence without continuous duplicates:\", result)\n"
   ]
  },
  {
   "cell_type": "code",
   "execution_count": 81,
   "id": "0952ef67",
   "metadata": {},
   "outputs": [
    {
     "name": "stdout",
     "output_type": "stream",
     "text": [
      "Is 'Hello123' valid? True\n",
      "Is 'This_is_not_valid!' valid? False\n"
     ]
    }
   ],
   "source": [
    "import re\n",
    "\n",
    "def is_string_valid(input_string):\n",
    "    pattern = re.compile(r'^.*[a-zA-Z0-9]$')\n",
    "\n",
    "    if pattern.match(input_string):\n",
    "        return True\n",
    "    else:\n",
    "        return False\n",
    "\n",
    "\n",
    "test_string1 = \"Hello123\"\n",
    "test_string2 = \"This_is_not_valid!\"\n",
    "\n",
    "result1 = is_string_valid(test_string1)\n",
    "result2 = is_string_valid(test_string2)\n",
    "\n",
    "print(f\"Is '{test_string1}' valid? {result1}\")\n",
    "print(f\"Is '{test_string2}' valid? {result2}\")\n"
   ]
  },
  {
   "cell_type": "code",
   "execution_count": 83,
   "id": "95a4172c",
   "metadata": {},
   "outputs": [
    {
     "name": "stdout",
     "output_type": "stream",
     "text": [
      "Original text: This is a #sample text with #hashtags and #regex.\n",
      "Hashtags found: ['#sample', '#hashtags', '#regex']\n"
     ]
    }
   ],
   "source": [
    "import re\n",
    "\n",
    "def extract_hashtags(input_string):\n",
    "    pattern = re.compile(r'\\#\\w+')\n",
    "    \n",
    "    hashtags = pattern.findall(input_string)\n",
    "\n",
    "    return hashtags\n",
    "\n",
    "input_text = \"This is a #sample text with #hashtags and #regex.\"\n",
    "\n",
    "result = extract_hashtags(input_text)\n",
    "\n",
    "print(\"Original text:\", input_text)\n",
    "print(\"Hashtags found:\", result)\n"
   ]
  },
  {
   "cell_type": "code",
   "execution_count": 85,
   "id": "437fb6f0",
   "metadata": {},
   "outputs": [
    {
     "name": "stdout",
     "output_type": "stream",
     "text": [
      "Original text: This string contains <U+0041>, <U+0062>, and <U+0079> like symbols.\n",
      "Text without <U+..> like symbols: This string contains , , and  like symbols.\n"
     ]
    }
   ],
   "source": [
    "import re\n",
    "\n",
    "def remove_u_plus_symbols(input_string):\n",
    "    pattern = re.compile(r'<U\\+[0-9A-Fa-f]+>')\n",
    "\n",
    "    cleaned_string = pattern.sub('', input_string)\n",
    "\n",
    "    return cleaned_string\n",
    "\n",
    "input_text = \"This string contains <U+0041>, <U+0062>, and <U+0079> like symbols.\"\n",
    "\n",
    "result = remove_u_plus_symbols(input_text)\n",
    "\n",
    "print(\"Original text:\", input_text)\n",
    "print(\"Text without <U+..> like symbols:\", result)\n"
   ]
  },
  {
   "cell_type": "code",
   "execution_count": 93,
   "id": "90c5e6f6",
   "metadata": {},
   "outputs": [
    {
     "name": "stdout",
     "output_type": "stream",
     "text": [
      "Original text: This is a sample text with words of various lengths.\n",
      "Text without words of length between 2 and 4:   a sample   words  various lengths.\n"
     ]
    }
   ],
   "source": [
    "import re\n",
    "\n",
    "def remove_words_of_length_between_2_and_4(input_string):\n",
    "    \n",
    "    pattern = re.compile(r'\\b\\w{2,4}\\b')\n",
    "\n",
    "    cleaned_string = pattern.sub('', input_string)\n",
    "\n",
    "    return cleaned_string\n",
    "\n",
    "input_text = \"This is a sample text with words of various lengths.\"\n",
    "\n",
    "result = remove_words_of_length_between_2_and_4(input_text)\n",
    "\n",
    "print(\"Original text:\", input_text)\n",
    "print(\"Text without words of length between 2 and 4:\", result)\n"
   ]
  },
  {
   "cell_type": "code",
   "execution_count": 95,
   "id": "f98297f7",
   "metadata": {},
   "outputs": [
    {
     "name": "stdout",
     "output_type": "stream",
     "text": [
      "Error: The file 'your_text_file.txt' does not exist.\n"
     ]
    }
   ],
   "source": [
    "import re\n",
    "\n",
    "def remove_parenthesis_area_from_file(file_path):\n",
    "    try:\n",
    "       \n",
    "        with open(file_path, 'r') as file:\n",
    "            content = file.read()\n",
    "\n",
    "        pattern = re.compile(r'\\([^)]*\\)')\n",
    "\n",
    "        cleaned_content = pattern.sub('', content)\n",
    "\n",
    "        with open(file_path, 'w') as file:\n",
    "            file.write(cleaned_content)\n",
    "\n",
    "        print(f\"Parenthesis area removed from the text file: {file_path}\")\n",
    "\n",
    "    except FileNotFoundError:\n",
    "        print(f\"Error: The file '{file_path}' does not exist.\")\n",
    "\n",
    "file_path = 'your_text_file.txt'  \n",
    "remove_parenthesis_area_from_file(file_path)\n"
   ]
  },
  {
   "cell_type": "code",
   "execution_count": 96,
   "id": "1278baa8",
   "metadata": {},
   "outputs": [
    {
     "ename": "SyntaxError",
     "evalue": "invalid syntax (1048225456.py, line 1)",
     "output_type": "error",
     "traceback": [
      "\u001b[1;36m  Cell \u001b[1;32mIn[96], line 1\u001b[1;36m\u001b[0m\n\u001b[1;33m    pip install pandas\u001b[0m\n\u001b[1;37m        ^\u001b[0m\n\u001b[1;31mSyntaxError\u001b[0m\u001b[1;31m:\u001b[0m invalid syntax\n"
     ]
    }
   ],
   "source": [
    "pip install pandas\n",
    "\n"
   ]
  },
  {
   "cell_type": "code",
   "execution_count": null,
   "id": "23731c71",
   "metadata": {},
   "outputs": [],
   "source": []
  }
 ],
 "metadata": {
  "kernelspec": {
   "display_name": "Python 3 (ipykernel)",
   "language": "python",
   "name": "python3"
  },
  "language_info": {
   "codemirror_mode": {
    "name": "ipython",
    "version": 3
   },
   "file_extension": ".py",
   "mimetype": "text/x-python",
   "name": "python",
   "nbconvert_exporter": "python",
   "pygments_lexer": "ipython3",
   "version": "3.11.3"
  }
 },
 "nbformat": 4,
 "nbformat_minor": 5
}
